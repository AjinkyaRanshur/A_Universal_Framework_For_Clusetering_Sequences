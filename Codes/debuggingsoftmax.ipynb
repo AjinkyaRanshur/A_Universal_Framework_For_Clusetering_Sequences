{
 "cells": [
  {
   "cell_type": "code",
   "execution_count": 1,
   "metadata": {},
   "outputs": [],
   "source": [
    "import numpy as np\n",
    "import torch\n",
    "import torch.nn as nn\n",
    "import torch.optim as optim\n",
    "from torch.utils.data import DataLoader\n",
    "import matplotlib.pyplot as plt"
   ]
  },
  {
   "cell_type": "code",
   "execution_count": 2,
   "metadata": {},
   "outputs": [],
   "source": [
    "fasta_content=\"D:\\Repo\\A_Universal_Framework_For_Clusetering_Sequences\\Datasets\\CPG_Island\\Cpg_Dataset_Sequences.fa\"\n",
    "\n",
    "# Preprocessing: Extracting and encoding sequences\n",
    "def parse_fasta(content):\n",
    "    sequences = []\n",
    "    labels = []\n",
    "    max_len=0\n",
    "    with open(content, 'r') as file:\n",
    "        for line in file:\n",
    "            if line.startswith(\"#\"):\n",
    "                label = line[-2]  # Assuming label is the last character of the line\n",
    "                labels.append(label)\n",
    "            else:\n",
    "                if max_len < len(line.strip()):\n",
    "                    max_len=len(line.strip())\n",
    "\n",
    "                sequences.append(line.strip())\n",
    "    \n",
    "    return sequences, labels,max_len\n",
    "\n",
    "# Extract sequences from the file\n",
    "sequences,labels,max_len = parse_fasta(fasta_content)"
   ]
  },
  {
   "cell_type": "code",
   "execution_count": 3,
   "metadata": {},
   "outputs": [],
   "source": [
    "def one_hot_encoding(seq,max_len):\n",
    "    column_dim=max_len\n",
    "    row_dim=5\n",
    "    encoded_vector=np.zeros((row_dim,column_dim))\n",
    "    i=0\n",
    "    # Encoding sequences into numerical format (A=0, T=1, C=2, G=3)\n",
    "    char_to_int = {'A': 0, 'T': 1, 'C': 2, 'G': 3}\n",
    "    for i, chr in enumerate(seq):\n",
    "        if chr in char_to_int:  # Check if the character is valid\n",
    "            row_indx = char_to_int[chr]\n",
    "            encoded_vector[row_indx][i] = 1\n",
    "\n",
    "    return encoded_vector\n",
    "\n",
    "encoded_sequences=[]\n",
    "\n",
    "encoded_sequences = np.array([one_hot_encoding(seq, max_len) for seq in sequences])"
   ]
  },
  {
   "cell_type": "code",
   "execution_count": 4,
   "metadata": {},
   "outputs": [
    {
     "name": "stdout",
     "output_type": "stream",
     "text": [
      "(100000, 500)\n"
     ]
    }
   ],
   "source": [
    "encoded_sequences=encoded_sequences.reshape(len(encoded_sequences), -1)\n",
    "\n",
    "print(encoded_sequences.shape)"
   ]
  },
  {
   "cell_type": "code",
   "execution_count": 5,
   "metadata": {},
   "outputs": [],
   "source": [
    "# Preprocessing: Add a mapping for labels\n",
    "label_to_int = {'0': 0, '1': 1}  # Example mapping; update based on your labels\n",
    "numerical_labels = [label_to_int[label] for label in labels]  # Convert labels to numerical format\n",
    "# Create a TensorDataset with both sequences and labels\n",
    "padded_sequences_tensor = torch.tensor(encoded_sequences, dtype=torch.float32)\n",
    "numerical_labels_tensor = torch.tensor(numerical_labels, dtype=torch.long)"
   ]
  },
  {
   "cell_type": "code",
   "execution_count": 6,
   "metadata": {},
   "outputs": [],
   "source": [
    "# Combine sequences and labels into a TensorDataset\n",
    "dataset = torch.utils.data.TensorDataset(padded_sequences_tensor, numerical_labels_tensor)\n",
    "\n",
    "# Create DataLoader\n",
    "dataloader = DataLoader(dataset, batch_size=64, shuffle=True)"
   ]
  },
  {
   "cell_type": "code",
   "execution_count": 9,
   "metadata": {},
   "outputs": [],
   "source": [
    "# Modify the Autoencoder to return both encoded and decoded representations\n",
    "class Autoencoder(nn.Module):\n",
    "    def __init__(self, input_dim):\n",
    "        super(Autoencoder, self).__init__()\n",
    "        self.encoder = nn.Sequential(\n",
    "            nn.Linear(500, 128),\n",
    "            nn.ReLU(),\n",
    "            nn.Linear(128, 64),\n",
    "            nn.ReLU(),\n",
    "            nn.Linear(64, 12),\n",
    "            nn.ReLU(),\n",
    "            nn.Linear(12, 2),   # Output 2 dimensions for latent space visualization\n",
    "            nn.Softmax(dim=1)\n",
    "            # nn.Tanh()\n",
    "        )\n",
    "        self.decoder = nn.Sequential(\n",
    "            nn.Linear(2,12),\n",
    "            nn.ReLU(),\n",
    "            nn.Linear(12, 64),\n",
    "            nn.ReLU(),\n",
    "            nn.Linear(64, 128),\n",
    "            nn.ReLU(),\n",
    "            nn.Linear(128,500)\n",
    "            # nn.Softmax(dim=1)\n",
    "            # nn.Tanh()\n",
    "        )\n",
    "\n",
    "    def forward(self, x, output_file=\"softmax_ouput.txt\"):\n",
    "        with open(output_file, \"w\") as f:  # Open file to write\n",
    "            f.write(\"Input Vector (first 5 rows):\\n\")\n",
    "            # Format values to 2 decimal places and write them\n",
    "            f.write(f\"{self.format_tensor(x[:2])}\\n\\n\")\n",
    "            \n",
    "            # Pass through encoder layers\n",
    "            for i, layer in enumerate(self.encoder):\n",
    "                x = layer(x)\n",
    "                f.write(f\"After Encoder Layer {i + 1} (first 5 rows):\\n\")\n",
    "                f.write(f\"{self.format_tensor(x[:2])}\\n\\n\")\n",
    "            \n",
    "            # Save the encoded (latent) representation\n",
    "            encoded = x\n",
    "            f.write(\"Latent Representation (first 5 rows):\\n\")\n",
    "            f.write(f\"{self.format_tensor(encoded[:10])}\\n\\n\")\n",
    "            \n",
    "            # Pass through decoder layers starting with `encoded`\n",
    "            x = encoded\n",
    "            for i, layer in enumerate(self.decoder):\n",
    "                x = layer(x)\n",
    "                f.write(f\"After Decoder Layer {i + 1} (first 5 rows):\\n\")\n",
    "                f.write(f\"{self.format_tensor(x[:2])}\\n\\n\")\n",
    "            \n",
    "            # Save the final decoded output\n",
    "            decoded = x\n",
    "            f.write(\"Output (Decoded) (first 5 rows):\\n\")\n",
    "            f.write(f\"{self.format_tensor(decoded[:2])}\\n\")\n",
    "        \n",
    "        return encoded, decoded\n",
    "\n",
    "    def format_tensor(self, tensor):\n",
    "        # Round the tensor values to 2 decimal places and return as a string\n",
    "        return str(tensor.detach().cpu().numpy().round(2))"
   ]
  },
  {
   "cell_type": "code",
   "execution_count": 10,
   "metadata": {},
   "outputs": [
    {
     "name": "stdout",
     "output_type": "stream",
     "text": [
      "Epoch: 1, Loss: 0.0925\n",
      "Epoch: 2, Loss: 0.0981\n",
      "Epoch: 3, Loss: 0.1020\n",
      "Epoch: 4, Loss: 0.0959\n",
      "Epoch: 5, Loss: 0.1025\n"
     ]
    }
   ],
   "source": [
    "# Reinitialize the model for latent space visualization\n",
    "input_dim = padded_sequences_tensor.shape[1]\n",
    "model = Autoencoder(input_dim)\n",
    "criterion = nn.MSELoss()\n",
    "optimizer = optim.Adam(model.parameters(), lr=1e-3, weight_decay=1e-5)\n",
    "\n",
    "# Training loop\n",
    "epochs = 5\n",
    "for epoch in range(epochs):\n",
    "    model.train()\n",
    "    for batch, _ in dataloader:  # Ignore labels during training\n",
    "        optimizer.zero_grad()\n",
    "        _, decoded = model(batch)\n",
    "        loss = criterion(decoded, batch)\n",
    "        loss.backward()\n",
    "        optimizer.step()\n",
    "    print(f'Epoch: {epoch + 1}, Loss: {loss.item():.4f}')\n",
    "\n",
    "# Visualization: Extract latent points\n",
    "model.eval()\n",
    "latent_points = []\n",
    "labels_list = []\n",
    "\n",
    "with torch.no_grad():\n",
    "    for batch, labels in dataloader:\n",
    "        encoded, _ = model(batch)  # Extract encoded (latent) representations\n",
    "        latent_points.append(encoded.numpy())  # Convert latent points to NumPy\n",
    "        labels_list.append(labels.numpy())  # Convert labels to NumPy\n",
    "\n",
    "# Combine latent points and labels for plotting\n",
    "latent_points = np.concatenate(latent_points, axis=0)\n",
    "labels_list = np.concatenate(labels_list, axis=0)"
   ]
  },
  {
   "cell_type": "code",
   "execution_count": 11,
   "metadata": {},
   "outputs": [
    {
     "name": "stdout",
     "output_type": "stream",
     "text": [
      "(100000, 2)\n",
      "(100000,)\n"
     ]
    }
   ],
   "source": [
    "# Check the shape after reshaping\n",
    "print(latent_points.shape)  # Should be (100000, 2)\n",
    "print(labels_list.shape)    # Should be (100000,)"
   ]
  },
  {
   "cell_type": "code",
   "execution_count": 12,
   "metadata": {},
   "outputs": [
    {
     "name": "stdout",
     "output_type": "stream",
     "text": [
      "[[0.95199513 0.04800487]\n",
      " [0.897194   0.10280603]\n",
      " [0.06429721 0.93570274]\n",
      " [0.07980318 0.92019683]\n",
      " [0.97377974 0.02622029]\n",
      " [0.9151378  0.08486221]\n",
      " [0.5870982  0.4129018 ]\n",
      " [0.30228993 0.6977101 ]\n",
      " [0.78138244 0.21861757]\n",
      " [0.05468862 0.94531137]\n",
      " [0.91693294 0.08306704]\n",
      " [0.56490415 0.43509585]\n",
      " [0.57838225 0.42161775]\n",
      " [0.20191486 0.7980852 ]\n",
      " [0.78205854 0.21794142]\n",
      " [0.5567297  0.4432704 ]\n",
      " [0.7188532  0.28114688]\n",
      " [0.4333117  0.5666883 ]\n",
      " [0.77868015 0.22131987]\n",
      " [0.9114777  0.08852232]\n",
      " [0.7492686  0.25073144]\n",
      " [0.2418805  0.75811946]\n",
      " [0.30239773 0.69760233]\n",
      " [0.378034   0.621966  ]\n",
      " [0.09910052 0.9008994 ]\n",
      " [0.7068874  0.29311264]\n",
      " [0.90202975 0.09797021]\n",
      " [0.06938265 0.93061733]\n",
      " [0.72772413 0.27227584]\n",
      " [0.49847415 0.5015258 ]\n",
      " [0.43534657 0.56465346]\n",
      " [0.4342019  0.56579804]\n",
      " [0.7878097  0.21219033]\n",
      " [0.9495001  0.05049997]\n",
      " [0.09565686 0.9043431 ]\n",
      " [0.23467675 0.76532316]\n",
      " [0.07507496 0.9249251 ]\n",
      " [0.06123313 0.9387669 ]\n",
      " [0.9683373  0.03166277]\n",
      " [0.2041593  0.7958407 ]\n",
      " [0.9771483  0.02285174]\n",
      " [0.5436835  0.45631647]\n",
      " [0.97288007 0.02711995]\n",
      " [0.9459804  0.0540196 ]\n",
      " [0.40812904 0.591871  ]\n",
      " [0.07741727 0.9225828 ]\n",
      " [0.7863435  0.21365647]\n",
      " [0.1923844  0.8076156 ]\n",
      " [0.9046516  0.09534846]\n",
      " [0.41084108 0.58915895]\n",
      " [0.9758521  0.0241479 ]\n",
      " [0.83692676 0.16307326]\n",
      " [0.92806727 0.07193268]\n",
      " [0.9683253  0.03167472]\n",
      " [0.58551115 0.41448888]\n",
      " [0.4962839  0.5037161 ]\n",
      " [0.45322818 0.5467719 ]\n",
      " [0.96555895 0.03444112]\n",
      " [0.9465755  0.05342445]\n",
      " [0.95026493 0.04973511]\n",
      " [0.06152992 0.9384701 ]\n",
      " [0.2462165  0.7537835 ]\n",
      " [0.41022274 0.5897773 ]\n",
      " [0.50205946 0.4979405 ]\n",
      " [0.85197955 0.14802036]\n",
      " [0.08085382 0.9191462 ]\n",
      " [0.14105178 0.8589482 ]\n",
      " [0.2831496  0.71685034]\n",
      " [0.7613053  0.23869476]\n",
      " [0.5688802  0.4311198 ]\n",
      " [0.602438   0.39756203]\n",
      " [0.29973853 0.7002614 ]\n",
      " [0.5922922  0.40770778]\n",
      " [0.1672036  0.8327964 ]\n",
      " [0.07279968 0.9272004 ]\n",
      " [0.17152393 0.828476  ]\n",
      " [0.5280771  0.47192287]\n",
      " [0.10253963 0.8974604 ]\n",
      " [0.5962128  0.40378717]\n",
      " [0.18499771 0.81500226]\n",
      " [0.11711013 0.8828899 ]\n",
      " [0.40466744 0.59533256]\n",
      " [0.74079543 0.25920463]\n",
      " [0.9379284  0.06207169]\n",
      " [0.3246292  0.6753708 ]\n",
      " [0.7946966  0.2053033 ]\n",
      " [0.9370744  0.06292555]\n",
      " [0.58680636 0.41319364]\n",
      " [0.07343154 0.92656845]\n",
      " [0.79973245 0.20026757]\n",
      " [0.9405958  0.05940416]\n",
      " [0.56935406 0.43064597]\n",
      " [0.06526765 0.9347324 ]\n",
      " [0.21162374 0.7883763 ]\n",
      " [0.5647405  0.4352595 ]\n",
      " [0.49989504 0.50010496]\n",
      " [0.19220833 0.80779165]\n",
      " [0.951914   0.048086  ]\n",
      " [0.94249964 0.05750033]\n",
      " [0.8962217  0.10377831]]\n"
     ]
    }
   ],
   "source": [
    "print(latent_points[:100])"
   ]
  },
  {
   "cell_type": "code",
   "execution_count": 11,
   "metadata": {},
   "outputs": [],
   "source": [
    "# from sklearn.decomposition import PCA\n",
    "# pca = PCA(n_components=2)\n",
    "# latent_points_2d = pca.fit_transform(latent_points)"
   ]
  },
  {
   "cell_type": "code",
   "execution_count": 13,
   "metadata": {},
   "outputs": [
    {
     "data": {
      "image/png": "[encoded data removed]",
      "text/plain": [
       "<Figure size 1000x800 with 2 Axes>"
      ]
     },
     "metadata": {},
     "output_type": "display_data"
    }
   ],
   "source": [
    "# Plot latent space\n",
    "plt.figure(figsize=(10, 8))\n",
    "scatter = plt.scatter(latent_points[:, 0], latent_points[:, 1], c=labels_list, cmap=\"tab10\", s=10)\n",
    "plt.colorbar(scatter, ticks=range(10), label=\"Digit Label\")\n",
    "plt.title(\"2D Latent Space Representation of CpG Island Sequences\")\n",
    "plt.xlabel(\"Latent Dimension 1\")\n",
    "plt.ylabel(\"Latent Dimension 2\")\n",
    "plt.show()"
   ]
  },
  {
   "cell_type": "code",
   "execution_count": null,
   "metadata": {},
   "outputs": [],
   "source": [
    "import torch\n",
    "import torch.nn.functional as F\n",
    "\n",
    "# Define a larger 2D sample vector with scientific notation\n",
    "x = torch.tensor([\n",
    "    [4.000e-02, 2.000e-02, 1.000e-02, 5.000e-02],\n",
    "    [3.000e-02, 1.000e-02, -1.000e-02, -2.000e-02],\n",
    "    [-3.000e-02, -4.000e-02, -5.000e-02, 2.000e-02],\n",
    "    [1.000e-02, -3.000e-02, 3.000e-02, 4.000e-02],\n",
    "    [2.000e-02, 1.000e-02, -2.000e-02, -1.000e-02],\n",
    "    [5.000e-02, -1.000e-02, -3.000e-02, -4.000e-02]\n",
    "])\n",
    "\n",
    "# ReLU (Rectified Linear Unit)\n",
    "relu_output = F.relu(x)\n",
    "print(\"ReLU Output:\", relu_output)\n",
    "\n",
    "# Sigmoid\n",
    "sigmoid_output = torch.sigmoid(x)\n",
    "print(\"Sigmoid Output:\", sigmoid_output)\n",
    "\n",
    "# Tanh\n",
    "tanh_output = torch.tanh(x)\n",
    "print(\"Tanh Output:\", tanh_output)\n",
    "\n",
    "# Leaky ReLU\n",
    "leaky_relu_output = F.leaky_relu(x)\n",
    "print(\"Leaky ReLU Output:\", leaky_relu_output)\n",
    "\n",
    "# Softmax (using dim=1 for row-wise softmax)\n",
    "softmax_output = F.softmax(x, dim=1)\n",
    "print(\"Softmax Output:\", softmax_output)\n"
   ]
  },
  {
   "cell_type": "code",
   "execution_count": null,
   "metadata": {},
   "outputs": [],
   "source": []
  },
  {
   "cell_type": "code",
   "execution_count": null,
   "metadata": {},
   "outputs": [],
   "source": []
  }
 ],
 "metadata": {
  "kernelspec": {
   "display_name": "pytorch-gpu",
   "language": "python",
   "name": "python3"
  },
  "language_info": {
   "codemirror_mode": {
    "name": "ipython",
    "version": 3
   },
   "file_extension": ".py",
   "mimetype": "text/x-python",
   "name": "python",
   "nbconvert_exporter": "python",
   "pygments_lexer": "ipython3",
   "version": "3.9.20"
  }
 },
 "nbformat": 4,
 "nbformat_minor": 2
}
