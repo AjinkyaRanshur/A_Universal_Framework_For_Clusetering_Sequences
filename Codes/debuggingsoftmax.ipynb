{
 "cells": [
  {
   "cell_type": "code",
   "execution_count": 1,
   "metadata": {},
   "outputs": [],
   "source": [
    "import numpy as np\n",
    "import torch\n",
    "import torch.nn as nn\n",
    "import torch.optim as optim\n",
    "from torch.utils.data import DataLoader\n",
    "import matplotlib.pyplot as plt"
   ]
  },
  {
   "cell_type": "code",
   "execution_count": 2,
   "metadata": {},
   "outputs": [],
   "source": [
    "fasta_content=\"D:\\Repo\\A_Universal_Framework_For_Clusetering_Sequences\\Datasets\\CPG_Island\\Cpg_Dataset_Sequences.fa\"\n",
    "\n",
    "# Preprocessing: Extracting and encoding sequences\n",
    "def parse_fasta(content):\n",
    "    sequences = []\n",
    "    labels = []\n",
    "    max_len=0\n",
    "    with open(content, 'r') as file:\n",
    "        for line in file:\n",
    "            if line.startswith(\"#\"):\n",
    "                label = line[-2]  # Assuming label is the last character of the line\n",
    "                labels.append(label)\n",
    "            else:\n",
    "                if max_len < len(line.strip()):\n",
    "                    max_len=len(line.strip())\n",
    "\n",
    "                sequences.append(line.strip())\n",
    "    \n",
    "    return sequences, labels,max_len\n",
    "\n",
    "# Extract sequences from the file\n",
    "sequences,labels,max_len = parse_fasta(fasta_content)"
   ]
  },
  {
   "cell_type": "code",
   "execution_count": 3,
   "metadata": {},
   "outputs": [],
   "source": [
    "def one_hot_encoding(seq,max_len):\n",
    "    column_dim=max_len\n",
    "    row_dim=5\n",
    "    encoded_vector=np.zeros((row_dim,column_dim))\n",
    "    i=0\n",
    "    # Encoding sequences into numerical format (A=0, T=1, C=2, G=3)\n",
    "    char_to_int = {'A': 0, 'T': 1, 'C': 2, 'G': 3}\n",
    "    for i, chr in enumerate(seq):\n",
    "        if chr in char_to_int:  # Check if the character is valid\n",
    "            row_indx = char_to_int[chr]\n",
    "            encoded_vector[row_indx][i] = 1\n",
    "\n",
    "    return encoded_vector\n",
    "\n",
    "encoded_sequences=[]\n",
    "\n",
    "encoded_sequences = np.array([one_hot_encoding(seq, max_len) for seq in sequences])"
   ]
  },
  {
   "cell_type": "code",
   "execution_count": 4,
   "metadata": {},
   "outputs": [
    {
     "name": "stdout",
     "output_type": "stream",
     "text": [
      "(100000, 500)\n"
     ]
    }
   ],
   "source": [
    "encoded_sequences=encoded_sequences.reshape(len(encoded_sequences), -1)\n",
    "\n",
    "print(encoded_sequences.shape)"
   ]
  },
  {
   "cell_type": "code",
   "execution_count": 5,
   "metadata": {},
   "outputs": [],
   "source": [
    "# Preprocessing: Add a mapping for labels\n",
    "label_to_int = {'0': 0, '1': 1}  # Example mapping; update based on your labels\n",
    "numerical_labels = [label_to_int[label] for label in labels]  # Convert labels to numerical format\n",
    "# Create a TensorDataset with both sequences and labels\n",
    "padded_sequences_tensor = torch.tensor(encoded_sequences, dtype=torch.float32)\n",
    "numerical_labels_tensor = torch.tensor(numerical_labels, dtype=torch.long)"
   ]
  },
  {
   "cell_type": "code",
   "execution_count": 6,
   "metadata": {},
   "outputs": [],
   "source": [
    "# Combine sequences and labels into a TensorDataset\n",
    "dataset = torch.utils.data.TensorDataset(padded_sequences_tensor, numerical_labels_tensor)\n",
    "\n",
    "# Create DataLoader\n",
    "dataloader = DataLoader(dataset, batch_size=64, shuffle=True)"
   ]
  },
  {
   "cell_type": "code",
   "execution_count": 7,
   "metadata": {},
   "outputs": [],
   "source": [
    "# Modify the Autoencoder to return both encoded and decoded representations\n",
    "class Autoencoder(nn.Module):\n",
    "    def __init__(self, input_dim):\n",
    "        super(Autoencoder, self).__init__()\n",
    "        self.encoder = nn.Sequential(\n",
    "            nn.Linear(500, 128),\n",
    "            nn.ReLU(),\n",
    "            nn.Linear(128, 64),\n",
    "            nn.ReLU(),\n",
    "            nn.Linear(64, 12),\n",
    "            nn.ReLU(),\n",
    "            nn.Linear(12, 2)   # Output 2 dimensions for latent space visualization\n",
    "        )\n",
    "        self.decoder = nn.Sequential(\n",
    "            nn.Linear(2,12),\n",
    "            nn.ReLU(),\n",
    "            nn.Linear(12, 64),\n",
    "            nn.ReLU(),\n",
    "            nn.Linear(64, 128),\n",
    "            nn.ReLU(),\n",
    "            nn.Linear(128,500),\n",
    "            nn.Softmax(dim=1)\n",
    "            # nn.Tanh()\n",
    "        )\n",
    "\n",
    "    def forward(self, x, output_file=\"softmax_ouput.txt\"):\n",
    "        with open(output_file, \"w\") as f:  # Open file to write\n",
    "            f.write(\"Input Vector (first 5 rows):\\n\")\n",
    "            # Format values to 2 decimal places and write them\n",
    "            f.write(f\"{self.format_tensor(x[:2])}\\n\\n\")\n",
    "            \n",
    "            # Pass through encoder layers\n",
    "            for i, layer in enumerate(self.encoder):\n",
    "                x = layer(x)\n",
    "                f.write(f\"After Encoder Layer {i + 1} (first 5 rows):\\n\")\n",
    "                f.write(f\"{self.format_tensor(x[:2])}\\n\\n\")\n",
    "            \n",
    "            # Save the encoded (latent) representation\n",
    "            encoded = x\n",
    "            f.write(\"Latent Representation (first 5 rows):\\n\")\n",
    "            f.write(f\"{self.format_tensor(encoded[:10])}\\n\\n\")\n",
    "            \n",
    "            # Pass through decoder layers starting with `encoded`\n",
    "            x = encoded\n",
    "            for i, layer in enumerate(self.decoder):\n",
    "                x = layer(x)\n",
    "                f.write(f\"After Decoder Layer {i + 1} (first 5 rows):\\n\")\n",
    "                f.write(f\"{self.format_tensor(x[:2])}\\n\\n\")\n",
    "            \n",
    "            # Save the final decoded output\n",
    "            decoded = x\n",
    "            f.write(\"Output (Decoded) (first 5 rows):\\n\")\n",
    "            f.write(f\"{self.format_tensor(decoded[:2])}\\n\")\n",
    "        \n",
    "        return encoded, decoded\n",
    "\n",
    "    def format_tensor(self, tensor):\n",
    "        # Round the tensor values to 2 decimal places and return as a string\n",
    "        return str(tensor.detach().cpu().numpy().round(2))"
   ]
  },
  {
   "cell_type": "code",
   "execution_count": 8,
   "metadata": {},
   "outputs": [
    {
     "name": "stdout",
     "output_type": "stream",
     "text": [
      "Epoch: 1, Loss: 0.1252\n",
      "Epoch: 2, Loss: 0.1274\n",
      "Epoch: 3, Loss: 0.1191\n",
      "Epoch: 4, Loss: 0.1300\n",
      "Epoch: 5, Loss: 0.1181\n"
     ]
    }
   ],
   "source": [
    "# Reinitialize the model for latent space visualization\n",
    "input_dim = padded_sequences_tensor.shape[1]\n",
    "model = Autoencoder(input_dim)\n",
    "criterion = nn.MSELoss()\n",
    "optimizer = optim.Adam(model.parameters(), lr=1e-3, weight_decay=1e-5)\n",
    "\n",
    "# Training loop\n",
    "epochs = 5\n",
    "for epoch in range(epochs):\n",
    "    model.train()\n",
    "    for batch, _ in dataloader:  # Ignore labels during training\n",
    "        optimizer.zero_grad()\n",
    "        _, decoded = model(batch)\n",
    "        loss = criterion(decoded, batch)\n",
    "        loss.backward()\n",
    "        optimizer.step()\n",
    "    print(f'Epoch: {epoch + 1}, Loss: {loss.item():.4f}')\n",
    "\n",
    "# Visualization: Extract latent points\n",
    "model.eval()\n",
    "latent_points = []\n",
    "labels_list = []\n",
    "\n",
    "with torch.no_grad():\n",
    "    for batch, labels in dataloader:\n",
    "        encoded, _ = model(batch)  # Extract encoded (latent) representations\n",
    "        latent_points.append(encoded.numpy())  # Convert latent points to NumPy\n",
    "        labels_list.append(labels.numpy())  # Convert labels to NumPy\n",
    "\n",
    "# Combine latent points and labels for plotting\n",
    "latent_points = np.concatenate(latent_points, axis=0)\n",
    "labels_list = np.concatenate(labels_list, axis=0)"
   ]
  },
  {
   "cell_type": "code",
   "execution_count": 9,
   "metadata": {},
   "outputs": [
    {
     "name": "stdout",
     "output_type": "stream",
     "text": [
      "(100000, 2)\n",
      "(100000,)\n"
     ]
    }
   ],
   "source": [
    "# Check the shape after reshaping\n",
    "print(latent_points.shape)  # Should be (100000, 2)\n",
    "print(labels_list.shape)    # Should be (100000,)"
   ]
  },
  {
   "cell_type": "code",
   "execution_count": 10,
   "metadata": {},
   "outputs": [],
   "source": [
    "# from sklearn.decomposition import PCA\n",
    "# pca = PCA(n_components=2)\n",
    "# latent_points_2d = pca.fit_transform(latent_points)"
   ]
  },
  {
   "cell_type": "code",
   "execution_count": 11,
   "metadata": {},
   "outputs": [
    {
     "data": {
      "image/png": "[encoded data removed]",
      "text/plain": [
       "<Figure size 1000x800 with 2 Axes>"
      ]
     },
     "metadata": {},
     "output_type": "display_data"
    }
   ],
   "source": [
    "# Plot latent space\n",
    "plt.figure(figsize=(10, 8))\n",
    "scatter = plt.scatter(latent_points[:, 0], latent_points[:, 1], c=labels_list, cmap=\"tab10\", s=10)\n",
    "plt.colorbar(scatter, ticks=range(10), label=\"Digit Label\")\n",
    "plt.title(\"2D Latent Space Representation of CpG Island Sequences\")\n",
    "plt.xlabel(\"Latent Dimension 1\")\n",
    "plt.ylabel(\"Latent Dimension 2\")\n",
    "plt.show()"
   ]
  },
  {
   "cell_type": "code",
   "execution_count": 12,
   "metadata": {},
   "outputs": [
    {
     "name": "stdout",
     "output_type": "stream",
     "text": [
      "ReLU Output: tensor([[0.0400, 0.0200, 0.0100, 0.0500],\n",
      "        [0.0300, 0.0100, 0.0000, 0.0000],\n",
      "        [0.0000, 0.0000, 0.0000, 0.0200],\n",
      "        [0.0100, 0.0000, 0.0300, 0.0400],\n",
      "        [0.0200, 0.0100, 0.0000, 0.0000],\n",
      "        [0.0500, 0.0000, 0.0000, 0.0000]])\n",
      "Sigmoid Output: tensor([[0.5100, 0.5050, 0.5025, 0.5125],\n",
      "        [0.5075, 0.5025, 0.4975, 0.4950],\n",
      "        [0.4925, 0.4900, 0.4875, 0.5050],\n",
      "        [0.5025, 0.4925, 0.5075, 0.5100],\n",
      "        [0.5050, 0.5025, 0.4950, 0.4975],\n",
      "        [0.5125, 0.4975, 0.4925, 0.4900]])\n",
      "Tanh Output: tensor([[ 0.0400,  0.0200,  0.0100,  0.0500],\n",
      "        [ 0.0300,  0.0100, -0.0100, -0.0200],\n",
      "        [-0.0300, -0.0400, -0.0500,  0.0200],\n",
      "        [ 0.0100, -0.0300,  0.0300,  0.0400],\n",
      "        [ 0.0200,  0.0100, -0.0200, -0.0100],\n",
      "        [ 0.0500, -0.0100, -0.0300, -0.0400]])\n",
      "Leaky ReLU Output: tensor([[ 4.0000e-02,  2.0000e-02,  1.0000e-02,  5.0000e-02],\n",
      "        [ 3.0000e-02,  1.0000e-02, -1.0000e-04, -2.0000e-04],\n",
      "        [-3.0000e-04, -4.0000e-04, -5.0000e-04,  2.0000e-02],\n",
      "        [ 1.0000e-02, -3.0000e-04,  3.0000e-02,  4.0000e-02],\n",
      "        [ 2.0000e-02,  1.0000e-02, -2.0000e-04, -1.0000e-04],\n",
      "        [ 5.0000e-02, -1.0000e-04, -3.0000e-04, -4.0000e-04]])\n",
      "Softmax Output: tensor([[0.2525, 0.2475, 0.2450, 0.2550],\n",
      "        [0.2569, 0.2518, 0.2468, 0.2444],\n",
      "        [0.2487, 0.2462, 0.2437, 0.2614],\n",
      "        [0.2493, 0.2395, 0.2543, 0.2569],\n",
      "        [0.2550, 0.2525, 0.2450, 0.2475],\n",
      "        [0.2646, 0.2492, 0.2443, 0.2419]])\n"
     ]
    }
   ],
   "source": [
    "import torch\n",
    "import torch.nn.functional as F\n",
    "\n",
    "# Define a larger 2D sample vector with scientific notation\n",
    "x = torch.tensor([\n",
    "    [4.000e-02, 2.000e-02, 1.000e-02, 5.000e-02],\n",
    "    [3.000e-02, 1.000e-02, -1.000e-02, -2.000e-02],\n",
    "    [-3.000e-02, -4.000e-02, -5.000e-02, 2.000e-02],\n",
    "    [1.000e-02, -3.000e-02, 3.000e-02, 4.000e-02],\n",
    "    [2.000e-02, 1.000e-02, -2.000e-02, -1.000e-02],\n",
    "    [5.000e-02, -1.000e-02, -3.000e-02, -4.000e-02]\n",
    "])\n",
    "\n",
    "# ReLU (Rectified Linear Unit)\n",
    "relu_output = F.relu(x)\n",
    "print(\"ReLU Output:\", relu_output)\n",
    "\n",
    "# Sigmoid\n",
    "sigmoid_output = torch.sigmoid(x)\n",
    "print(\"Sigmoid Output:\", sigmoid_output)\n",
    "\n",
    "# Tanh\n",
    "tanh_output = torch.tanh(x)\n",
    "print(\"Tanh Output:\", tanh_output)\n",
    "\n",
    "# Leaky ReLU\n",
    "leaky_relu_output = F.leaky_relu(x)\n",
    "print(\"Leaky ReLU Output:\", leaky_relu_output)\n",
    "\n",
    "# Softmax (using dim=1 for row-wise softmax)\n",
    "softmax_output = F.softmax(x, dim=1)\n",
    "print(\"Softmax Output:\", softmax_output)\n"
   ]
  },
  {
   "cell_type": "code",
   "execution_count": null,
   "metadata": {},
   "outputs": [],
   "source": []
  },
  {
   "cell_type": "code",
   "execution_count": null,
   "metadata": {},
   "outputs": [],
   "source": []
  }
 ],
 "metadata": {
  "kernelspec": {
   "display_name": "pytorch-gpu",
   "language": "python",
   "name": "python3"
  },
  "language_info": {
   "codemirror_mode": {
    "name": "ipython",
    "version": 3
   },
   "file_extension": ".py",
   "mimetype": "text/x-python",
   "name": "python",
   "nbconvert_exporter": "python",
   "pygments_lexer": "ipython3",
   "version": "3.9.20"
  }
 },
 "nbformat": 4,
 "nbformat_minor": 2
}
