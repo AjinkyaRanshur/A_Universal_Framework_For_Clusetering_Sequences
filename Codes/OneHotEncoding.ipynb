{
 "cells": [
  {
   "cell_type": "code",
   "execution_count": 1,
   "metadata": {},
   "outputs": [],
   "source": [
    "import numpy as np\n",
    "import torch\n",
    "import torch.nn as nn\n",
    "import torch.optim as optim\n",
    "from torch.utils.data import DataLoader\n",
    "import matplotlib.pyplot as plt"
   ]
  },
  {
   "cell_type": "code",
   "execution_count": 2,
   "metadata": {},
   "outputs": [],
   "source": [
    "fasta_content=\"D:\\Repo\\A_Universal_Framework_For_Clusetering_Sequences\\Datasets\\Sorted_Sequences\\Cpg_Dataset_Sequences_Sorted.fa\"\n",
    "# fasta_content=\"D:\\Repo\\A_Universal_Framework_For_Clusetering_Sequences\\Datasets\\Sorted_Sequences\\AJR_Dataset_Sequences_100k_Sorted.fa\"\n",
    "\n",
    "# Preprocessing: Extracting and encoding sequences\n",
    "def parse_fasta(content):\n",
    "    sequences = []\n",
    "    labels = []\n",
    "    max_len=0\n",
    "    with open(content, 'r') as file:\n",
    "        for line in file:\n",
    "            if line.startswith(\"#\"):\n",
    "                # label = line[-3:].strip()  # Assuming label is the last character of the line\n",
    "                label = line[-2].strip()\n",
    "                labels.append(label)\n",
    "            else:\n",
    "                if max_len < len(line.strip()):\n",
    "                    max_len=len(line.strip())\n",
    "\n",
    "                sequences.append(line.strip())\n",
    "    \n",
    "    return sequences, labels,max_len\n",
    "\n",
    "# Extract sequences from the file\n",
    "sequences,labels,max_len = parse_fasta(fasta_content)"
   ]
  },
  {
   "cell_type": "code",
   "execution_count": 3,
   "metadata": {},
   "outputs": [],
   "source": [
    "def one_hot_encoding(seq,max_len):\n",
    "    column_dim=max_len\n",
    "    row_dim=5\n",
    "    encoded_vector=np.zeros((row_dim,column_dim))\n",
    "    i=0\n",
    "    # Encoding sequences into numerical format (A=0, T=1, C=2, G=3)\n",
    "    char_to_int = {'A': 0, 'T': 1, 'C': 2, 'G': 3}\n",
    "    for i, chr in enumerate(seq):\n",
    "        if chr in char_to_int:  # Check if the character is valid\n",
    "            row_indx = char_to_int[chr]\n",
    "            encoded_vector[row_indx][i] = 1\n",
    "\n",
    "    return encoded_vector\n",
    "\n",
    "encoded_sequences=[]\n",
    "\n",
    "encoded_sequences = np.array([one_hot_encoding(seq, max_len) for seq in sequences])"
   ]
  },
  {
   "cell_type": "code",
   "execution_count": 4,
   "metadata": {},
   "outputs": [
    {
     "name": "stdout",
     "output_type": "stream",
     "text": [
      "(100000, 500)\n"
     ]
    }
   ],
   "source": [
    "encoded_sequences=encoded_sequences.reshape(len(encoded_sequences), -1)\n",
    "\n",
    "print(encoded_sequences.shape)"
   ]
  },
  {
   "cell_type": "code",
   "execution_count": 5,
   "metadata": {},
   "outputs": [],
   "source": [
    "# Preprocessing: Add a mapping for labels\n",
    "label_to_int = {'0': 0, '1': 1}  # Example mapping; update based on your labels\n",
    "# label_to_int = {'0A':1,'0T': 2,'0G': 3,'0C': 4, '1A': 5,'1T': 6,'1G': 7,'1C': 8} \n",
    "numerical_labels = [label_to_int[label] for label in labels]  # Convert labels to numerical format\n",
    "# Create a TensorDataset with both sequences and labels\n",
    "padded_sequences_tensor = torch.tensor(encoded_sequences, dtype=torch.float32)\n",
    "numerical_labels_tensor = torch.tensor(numerical_labels, dtype=torch.long)"
   ]
  },
  {
   "cell_type": "code",
   "execution_count": 6,
   "metadata": {},
   "outputs": [],
   "source": [
    "# Combine sequences and labels into a TensorDataset\n",
    "dataset = torch.utils.data.TensorDataset(padded_sequences_tensor, numerical_labels_tensor)\n",
    "\n",
    "# Create DataLoader\n",
    "dataloader = DataLoader(dataset, batch_size=64, shuffle=True)"
   ]
  },
  {
   "cell_type": "code",
   "execution_count": 7,
   "metadata": {},
   "outputs": [],
   "source": [
    "# Modify the Autoencoder to return both encoded and decoded representations\n",
    "class Autoencoder(nn.Module):\n",
    "    def __init__(self, input_dim):\n",
    "        super(Autoencoder, self).__init__()\n",
    "        self.encoder = nn.Sequential(\n",
    "            nn.Linear(500, 128),\n",
    "            nn.ReLU(),\n",
    "            nn.Linear(128, 64),\n",
    "            nn.ReLU(),\n",
    "            nn.Linear(64, 12),\n",
    "            nn.ReLU(),\n",
    "            nn.Linear(12, 2),   # Output 2 dimensions for latent space visualization\n",
    "            nn.Softmax(dim=1)\n",
    "        )\n",
    "        self.decoder = nn.Sequential(\n",
    "            nn.Linear(2,12),\n",
    "            nn.ReLU(),\n",
    "            nn.Linear(12, 64),\n",
    "            nn.ReLU(),\n",
    "            nn.Linear(64, 128),\n",
    "            nn.ReLU(),\n",
    "            nn.Linear(128,500),\n",
    "            nn.ReLU(),\n",
    "            # nn.Softmax(dim=1) \n",
    "        )\n",
    "\n",
    "    def forward(self, x):\n",
    "        encoded = self.encoder(x)\n",
    "        decoded = self.decoder(encoded)\n",
    "        return encoded, decoded  # Return both encoded and decoded outputs"
   ]
  },
  {
   "cell_type": "code",
   "execution_count": 8,
   "metadata": {},
   "outputs": [
    {
     "name": "stdout",
     "output_type": "stream",
     "text": [
      "Epoch: 1, Loss: 0.0940\n",
      "Epoch: 2, Loss: 0.0912\n",
      "Epoch: 3, Loss: 0.0950\n",
      "Epoch: 4, Loss: 0.1091\n",
      "Epoch: 5, Loss: 0.0870\n",
      "Epoch: 6, Loss: 0.0968\n",
      "Epoch: 7, Loss: 0.0922\n",
      "Epoch: 8, Loss: 0.0998\n",
      "Epoch: 9, Loss: 0.0952\n",
      "Epoch: 10, Loss: 0.0986\n"
     ]
    }
   ],
   "source": [
    "# Reinitialize the model for latent space visualization\n",
    "input_dim = padded_sequences_tensor.shape[1]\n",
    "model = Autoencoder(input_dim)\n",
    "criterion = nn.MSELoss()\n",
    "optimizer = optim.Adam(model.parameters(), lr=1e-3, weight_decay=1e-5)\n",
    "\n",
    "# Training loop\n",
    "epochs = 10\n",
    "for epoch in range(epochs):\n",
    "    model.train()\n",
    "    for batch, _ in dataloader:  # Ignore labels during training\n",
    "        optimizer.zero_grad()\n",
    "        _, decoded = model(batch)\n",
    "        loss = criterion(decoded, batch)\n",
    "        loss.backward()\n",
    "        optimizer.step()\n",
    "    print(f'Epoch: {epoch + 1}, Loss: {loss.item():.4f}')\n",
    "\n",
    "# Visualization: Extract latent points\n",
    "model.eval()\n",
    "latent_points = []\n",
    "labels_list = []\n",
    "\n",
    "with torch.no_grad():\n",
    "    for batch, labels in dataloader:\n",
    "        encoded, _ = model(batch)  # Extract encoded (latent) representations\n",
    "        latent_points.append(encoded.numpy())  # Convert latent points to NumPy\n",
    "        labels_list.append(labels.numpy())  # Convert labels to NumPy\n",
    "\n",
    "# Combine latent points and labels for plotting\n",
    "latent_points = np.concatenate(latent_points, axis=0)\n",
    "labels_list = np.concatenate(labels_list, axis=0)"
   ]
  },
  {
   "cell_type": "code",
   "execution_count": 9,
   "metadata": {},
   "outputs": [
    {
     "name": "stdout",
     "output_type": "stream",
     "text": [
      "(100000, 2)\n",
      "(100000,)\n"
     ]
    }
   ],
   "source": [
    "# Check the shape after reshaping\n",
    "print(latent_points.shape)  # Should be (100000, 2)\n",
    "print(labels_list.shape)    # Should be (100000,)"
   ]
  },
  {
   "cell_type": "code",
   "execution_count": 10,
   "metadata": {},
   "outputs": [
    {
     "name": "stdout",
     "output_type": "stream",
     "text": [
      "[[0.129 0.871]\n",
      " [0.493 0.507]\n",
      " [0.108 0.892]\n",
      " [0.554 0.446]\n",
      " [0.134 0.866]\n",
      " [0.582 0.418]\n",
      " [0.065 0.935]\n",
      " [0.148 0.852]\n",
      " [0.095 0.905]\n",
      " [0.507 0.493]\n",
      " [0.148 0.852]\n",
      " [0.571 0.429]\n",
      " [0.485 0.515]\n",
      " [0.598 0.402]\n",
      " [0.076 0.924]\n",
      " [0.629 0.371]\n",
      " [0.064 0.936]\n",
      " [0.71  0.29 ]\n",
      " [0.749 0.251]\n",
      " [0.731 0.269]\n",
      " [0.081 0.919]\n",
      " [0.361 0.639]\n",
      " [0.048 0.952]\n",
      " [0.347 0.653]\n",
      " [0.299 0.701]\n",
      " [0.153 0.847]\n",
      " [0.144 0.856]\n",
      " [0.745 0.255]\n",
      " [0.051 0.949]\n",
      " [0.864 0.136]\n",
      " [0.477 0.523]\n",
      " [0.292 0.708]\n",
      " [0.427 0.573]\n",
      " [0.035 0.965]\n",
      " [0.869 0.131]\n",
      " [0.943 0.057]\n",
      " [0.783 0.217]\n",
      " [0.711 0.289]\n",
      " [0.783 0.217]\n",
      " [0.692 0.308]\n",
      " [0.931 0.069]\n",
      " [0.593 0.407]\n",
      " [0.346 0.654]\n",
      " [0.103 0.897]\n",
      " [0.174 0.826]\n",
      " [0.74  0.26 ]\n",
      " [0.581 0.419]\n",
      " [0.047 0.953]\n",
      " [0.457 0.543]\n",
      " [0.616 0.384]\n",
      " [0.15  0.85 ]\n",
      " [0.488 0.512]\n",
      " [0.271 0.729]\n",
      " [0.959 0.041]\n",
      " [0.143 0.857]\n",
      " [0.173 0.827]\n",
      " [0.783 0.217]\n",
      " [0.787 0.213]\n",
      " [0.936 0.064]\n",
      " [0.195 0.805]\n",
      " [0.262 0.738]\n",
      " [0.07  0.93 ]\n",
      " [0.05  0.95 ]\n",
      " [0.365 0.635]\n",
      " [0.506 0.494]\n",
      " [0.167 0.833]\n",
      " [0.053 0.947]\n",
      " [0.059 0.941]\n",
      " [0.354 0.646]\n",
      " [0.296 0.704]\n",
      " [0.705 0.295]\n",
      " [0.566 0.434]\n",
      " [0.057 0.943]\n",
      " [0.326 0.674]\n",
      " [0.043 0.957]\n",
      " [0.943 0.057]\n",
      " [0.062 0.938]\n",
      " [0.703 0.297]\n",
      " [0.781 0.219]\n",
      " [0.953 0.047]\n",
      " [0.133 0.867]\n",
      " [0.853 0.147]\n",
      " [0.948 0.052]\n",
      " [0.266 0.734]\n",
      " [0.44  0.56 ]\n",
      " [0.643 0.357]\n",
      " [0.131 0.869]\n",
      " [0.323 0.677]\n",
      " [0.349 0.651]\n",
      " [0.624 0.376]\n",
      " [0.225 0.775]\n",
      " [0.412 0.588]\n",
      " [0.268 0.732]\n",
      " [0.957 0.043]\n",
      " [0.37  0.63 ]\n",
      " [0.619 0.381]\n",
      " [0.751 0.249]\n",
      " [0.359 0.641]\n",
      " [0.185 0.815]\n",
      " [0.85  0.15 ]]\n"
     ]
    }
   ],
   "source": [
    "latent_points=np.round(latent_points,3)\n",
    "\n",
    "# print(np.round(latent_points[:100],3))\n",
    "print(latent_points[:100])"
   ]
  },
  {
   "cell_type": "code",
   "execution_count": 11,
   "metadata": {},
   "outputs": [
    {
     "data": {
      "image/png": "[encoded data removed]",
      "text/plain": [
       "<Figure size 1000x600 with 2 Axes>"
      ]
     },
     "metadata": {},
     "output_type": "display_data"
    }
   ],
   "source": [
    "import seaborn as sns\n",
    "\n",
    "# Create the heatmap\n",
    "plt.figure(figsize=(10, 6))\n",
    "sns.heatmap(latent_points, cmap=\"viridis\", cbar_kws={'label': 'Probability'})\n",
    "# plt.title(\"Heatmap of Class Probabilities\")\n",
    "plt.title(\"Heatmap of Cpg Island Probabilities\")\n",
    "# plt.xlabel(\"Class\")\n",
    "plt.xlabel(\"Cpg Island\")\n",
    "plt.ylabel(\"Sample Index\")\n",
    "plt.show()"
   ]
  },
  {
   "cell_type": "code",
   "execution_count": 12,
   "metadata": {},
   "outputs": [],
   "source": [
    "# from sklearn.decomposition import PCA \n",
    "\n",
    "# pca = PCA(n_components=2)\n",
    "# latent_points_2d = pca.fit_transform(latent_points)\n"
   ]
  },
  {
   "cell_type": "code",
   "execution_count": 13,
   "metadata": {},
   "outputs": [],
   "source": [
    "# from sklearn.manifold import TSNE\n",
    "\n",
    "# # Apply t-SNE on the latent points\n",
    "# tsne = TSNE(n_components=2, perplexity=100, max_iter=1000, random_state=42)\n",
    "# latent_points_2d = tsne.fit_transform(latent_points)\n"
   ]
  },
  {
   "cell_type": "code",
   "execution_count": 14,
   "metadata": {},
   "outputs": [],
   "source": [
    "# import umap\n",
    "\n",
    "# # Apply UMAP to reduce to 2D\n",
    "# umap_reducer = umap.UMAP(n_components=2, n_neighbors=100, min_dist=0.1, random_state=42,n_jobs=-1)\n",
    "# latent_points_2d = umap_reducer.fit_transform(latent_points)\n"
   ]
  },
  {
   "cell_type": "code",
   "execution_count": 15,
   "metadata": {},
   "outputs": [],
   "source": [
    "# # Plot latent space\n",
    "# plt.figure(figsize=(10, 8))\n",
    "# scatter = plt.scatter(latent_points[:, 0], latent_points[:, 1], c=labels_list, cmap=\"tab10\", s=10)\n",
    "# plt.colorbar(scatter, ticks=range(10), label=\"Digit Label\")\n",
    "# plt.title(\"2D Latent Space Representation of CpG Island Sequences\")\n",
    "# plt.xlabel(\"Latent Dimension 1\")\n",
    "# plt.ylabel(\"Latent Dimension 2\")\n",
    "# plt.show()"
   ]
  },
  {
   "cell_type": "code",
   "execution_count": null,
   "metadata": {},
   "outputs": [],
   "source": []
  }
 ],
 "metadata": {
  "kernelspec": {
   "display_name": "pytorch-gpu",
   "language": "python",
   "name": "python3"
  },
  "language_info": {
   "codemirror_mode": {
    "name": "ipython",
    "version": 3
   },
   "file_extension": ".py",
   "mimetype": "text/x-python",
   "name": "python",
   "nbconvert_exporter": "python",
   "pygments_lexer": "ipython3",
   "version": "3.9.20"
  }
 },
 "nbformat": 4,
 "nbformat_minor": 2
}
